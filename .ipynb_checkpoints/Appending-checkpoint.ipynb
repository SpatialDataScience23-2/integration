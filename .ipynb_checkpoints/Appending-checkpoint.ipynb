{
 "cells": [
  {
   "cell_type": "markdown",
   "metadata": {},
   "source": [
    "<center><img src=\"https://i.imgur.com/zRrFdsf.png\" width=\"700\"></center> \n",
    "\n",
    "_____\n",
    "\n",
    "<a id='home'></a>\n",
    "\n",
    "# Appending\n",
    "\n",
    "<a target=\"_blank\" href=\"https://colab.research.google.com/github/CienciaDeDatosEspacial/code_and_data/blob/main/Appending.ipynb\">\n",
    "  <img src=\"https://colab.research.google.com/assets/colab-badge.svg\" alt=\"Open In Colab\"/>\n",
    "</a>"
   ]
  },
  {
   "cell_type": "markdown",
   "metadata": {},
   "source": [
    "<a id='appending'></a>\n",
    "\n",
    "As the name implies, this process binds DFs into one, that is, one or more DFs will be put below or on top of another DF. Appending can be done when you fulfill these requisites:\n",
    "1. All the DFs  share the same column names.\n",
    "2. All the DFs  columns are in the same location.\n",
    "\n",
    "Note that it is better if the columns share the same data types. But you can solve it during the formatting process.\n",
    "\n",
    "\n",
    "Let's visit this website: https://fundforpeace.org/what-we-do/country-risk-and-fragility-data/\n",
    "\n",
    "There, you will find several excel files with the _Fragile States Index_ per year. I have the files from 2013 to 2021 in a GitHub repo:\n",
    "\n",
    "![](fragilityGit.png)"
   ]
  },
  {
   "cell_type": "markdown",
   "metadata": {},
   "source": [
    "Let's read every file. For that, we will use a link to each. Let's do it step by step:"
   ]
  },
  {
   "cell_type": "code",
   "execution_count": 6,
   "metadata": {},
   "outputs": [],
   "source": [
    "# link to repo - common to all files\n",
    "dataRepo='https://github.com/SpatialDataScience23-2/data-frames_appending/raw/main/' \n",
    "#podemos crear un repositorio donde esté toda la data\n",
    "#creamos un link para referenciar\n",
    "#se guarda ruta hacia la carpeta"
   ]
  },
  {
   "cell_type": "code",
   "execution_count": 7,
   "metadata": {},
   "outputs": [
    {
     "data": {
      "text/plain": [
       "['fsi-2013.xlsx',\n",
       " 'fsi-2014.xlsx',\n",
       " 'fsi-2015.xlsx',\n",
       " 'fsi-2016.xlsx',\n",
       " 'fsi-2017.xlsx',\n",
       " 'fsi-2018.xlsx',\n",
       " 'fsi-2019.xlsx',\n",
       " 'fsi-2020.xlsx',\n",
       " 'fsi-2021.xlsx']"
      ]
     },
     "execution_count": 7,
     "metadata": {},
     "output_type": "execute_result"
    }
   ],
   "source": [
    "# creating file names into a list:\n",
    "years=range(2013,2022)\n",
    "fileNames=['fsi-'+str(year)+'.xlsx' for year in years]\n",
    "# list of file names \n",
    "fileNames \n",
    "#se crean los nombres de los archivos"
   ]
  },
  {
   "cell_type": "code",
   "execution_count": 8,
   "metadata": {},
   "outputs": [
    {
     "data": {
      "text/plain": [
       "['https://github.com/SpatialDataScience23-2/data-frames_appending/raw/main/fsi-2013.xlsx',\n",
       " 'https://github.com/SpatialDataScience23-2/data-frames_appending/raw/main/fsi-2014.xlsx',\n",
       " 'https://github.com/SpatialDataScience23-2/data-frames_appending/raw/main/fsi-2015.xlsx',\n",
       " 'https://github.com/SpatialDataScience23-2/data-frames_appending/raw/main/fsi-2016.xlsx',\n",
       " 'https://github.com/SpatialDataScience23-2/data-frames_appending/raw/main/fsi-2017.xlsx',\n",
       " 'https://github.com/SpatialDataScience23-2/data-frames_appending/raw/main/fsi-2018.xlsx',\n",
       " 'https://github.com/SpatialDataScience23-2/data-frames_appending/raw/main/fsi-2019.xlsx',\n",
       " 'https://github.com/SpatialDataScience23-2/data-frames_appending/raw/main/fsi-2020.xlsx',\n",
       " 'https://github.com/SpatialDataScience23-2/data-frames_appending/raw/main/fsi-2021.xlsx']"
      ]
     },
     "execution_count": 8,
     "metadata": {},
     "output_type": "execute_result"
    }
   ],
   "source": [
    "# creating the url to each file:\n",
    "alltheLinks=[dataRepo+fn for fn in fileNames]\n",
    "alltheLinks\n",
    "#se crea un link para cada DF, se almacenan en una fila"
   ]
  },
  {
   "cell_type": "markdown",
   "metadata": {},
   "source": [
    "We will save each data frame in a list **allDFs**. We will use pandas, but we need **openpyxl** and **xlrd** (for Excel) before doing this operation:"
   ]
  },
  {
   "cell_type": "code",
   "execution_count": 10,
   "metadata": {},
   "outputs": [],
   "source": [
    "# creating list of DFs\n",
    "import pandas as pd\n",
    "\n",
    "allDFs=[pd.read_excel(link) for link in alltheLinks] "
   ]
  },
  {
   "cell_type": "code",
   "execution_count": 14,
   "metadata": {},
   "outputs": [
    {
     "data": {
      "text/html": [
       "<div>\n",
       "<style scoped>\n",
       "    .dataframe tbody tr th:only-of-type {\n",
       "        vertical-align: middle;\n",
       "    }\n",
       "\n",
       "    .dataframe tbody tr th {\n",
       "        vertical-align: top;\n",
       "    }\n",
       "\n",
       "    .dataframe thead th {\n",
       "        text-align: right;\n",
       "    }\n",
       "</style>\n",
       "<table border=\"1\" class=\"dataframe\">\n",
       "  <thead>\n",
       "    <tr style=\"text-align: right;\">\n",
       "      <th></th>\n",
       "      <th>Country</th>\n",
       "      <th>Year</th>\n",
       "      <th>Rank</th>\n",
       "      <th>Total</th>\n",
       "      <th>C1: Security Apparatus</th>\n",
       "      <th>C2: Factionalized Elites</th>\n",
       "      <th>C3: Group Grievance</th>\n",
       "      <th>E1: Economy</th>\n",
       "      <th>E2: Economic Inequality</th>\n",
       "      <th>E3: Human Flight and Brain Drain</th>\n",
       "      <th>P1: State Legitimacy</th>\n",
       "      <th>P2: Public Services</th>\n",
       "      <th>P3: Human Rights</th>\n",
       "      <th>S1: Demographic Pressures</th>\n",
       "      <th>S2: Refugees and IDPs</th>\n",
       "      <th>X1: External Intervention</th>\n",
       "    </tr>\n",
       "  </thead>\n",
       "  <tbody>\n",
       "    <tr>\n",
       "      <th>0</th>\n",
       "      <td>Yemen</td>\n",
       "      <td>2021</td>\n",
       "      <td>1st</td>\n",
       "      <td>111.7</td>\n",
       "      <td>9.4</td>\n",
       "      <td>10.0</td>\n",
       "      <td>9.4</td>\n",
       "      <td>9.8</td>\n",
       "      <td>7.7</td>\n",
       "      <td>6.7</td>\n",
       "      <td>9.9</td>\n",
       "      <td>9.8</td>\n",
       "      <td>9.7</td>\n",
       "      <td>9.8</td>\n",
       "      <td>9.8</td>\n",
       "      <td>9.7</td>\n",
       "    </tr>\n",
       "    <tr>\n",
       "      <th>1</th>\n",
       "      <td>Somalia</td>\n",
       "      <td>2021</td>\n",
       "      <td>2nd</td>\n",
       "      <td>110.9</td>\n",
       "      <td>9.3</td>\n",
       "      <td>10.0</td>\n",
       "      <td>8.3</td>\n",
       "      <td>9.2</td>\n",
       "      <td>9.5</td>\n",
       "      <td>8.8</td>\n",
       "      <td>9.2</td>\n",
       "      <td>9.8</td>\n",
       "      <td>8.7</td>\n",
       "      <td>10.0</td>\n",
       "      <td>9.2</td>\n",
       "      <td>8.9</td>\n",
       "    </tr>\n",
       "    <tr>\n",
       "      <th>2</th>\n",
       "      <td>Syria</td>\n",
       "      <td>2021</td>\n",
       "      <td>3rd</td>\n",
       "      <td>110.7</td>\n",
       "      <td>9.6</td>\n",
       "      <td>9.9</td>\n",
       "      <td>9.7</td>\n",
       "      <td>9.6</td>\n",
       "      <td>7.1</td>\n",
       "      <td>8.2</td>\n",
       "      <td>10.0</td>\n",
       "      <td>9.6</td>\n",
       "      <td>9.7</td>\n",
       "      <td>7.6</td>\n",
       "      <td>9.7</td>\n",
       "      <td>10.0</td>\n",
       "    </tr>\n",
       "    <tr>\n",
       "      <th>3</th>\n",
       "      <td>South Sudan</td>\n",
       "      <td>2021</td>\n",
       "      <td>4th</td>\n",
       "      <td>109.4</td>\n",
       "      <td>9.7</td>\n",
       "      <td>9.2</td>\n",
       "      <td>8.8</td>\n",
       "      <td>9.2</td>\n",
       "      <td>8.9</td>\n",
       "      <td>6.7</td>\n",
       "      <td>9.5</td>\n",
       "      <td>10.0</td>\n",
       "      <td>8.7</td>\n",
       "      <td>9.5</td>\n",
       "      <td>9.9</td>\n",
       "      <td>9.3</td>\n",
       "    </tr>\n",
       "    <tr>\n",
       "      <th>4</th>\n",
       "      <td>Congo Democratic Republic</td>\n",
       "      <td>2021</td>\n",
       "      <td>5th</td>\n",
       "      <td>108.4</td>\n",
       "      <td>8.6</td>\n",
       "      <td>9.5</td>\n",
       "      <td>9.4</td>\n",
       "      <td>8.5</td>\n",
       "      <td>8.5</td>\n",
       "      <td>6.8</td>\n",
       "      <td>9.2</td>\n",
       "      <td>9.8</td>\n",
       "      <td>9.2</td>\n",
       "      <td>9.8</td>\n",
       "      <td>10.0</td>\n",
       "      <td>9.1</td>\n",
       "    </tr>\n",
       "    <tr>\n",
       "      <th>...</th>\n",
       "      <td>...</td>\n",
       "      <td>...</td>\n",
       "      <td>...</td>\n",
       "      <td>...</td>\n",
       "      <td>...</td>\n",
       "      <td>...</td>\n",
       "      <td>...</td>\n",
       "      <td>...</td>\n",
       "      <td>...</td>\n",
       "      <td>...</td>\n",
       "      <td>...</td>\n",
       "      <td>...</td>\n",
       "      <td>...</td>\n",
       "      <td>...</td>\n",
       "      <td>...</td>\n",
       "      <td>...</td>\n",
       "    </tr>\n",
       "    <tr>\n",
       "      <th>174</th>\n",
       "      <td>Denmark</td>\n",
       "      <td>2021</td>\n",
       "      <td>175th</td>\n",
       "      <td>18.8</td>\n",
       "      <td>1.7</td>\n",
       "      <td>1.4</td>\n",
       "      <td>3.7</td>\n",
       "      <td>1.7</td>\n",
       "      <td>1.2</td>\n",
       "      <td>1.3</td>\n",
       "      <td>0.5</td>\n",
       "      <td>1.4</td>\n",
       "      <td>0.9</td>\n",
       "      <td>2.3</td>\n",
       "      <td>2.2</td>\n",
       "      <td>0.5</td>\n",
       "    </tr>\n",
       "    <tr>\n",
       "      <th>175</th>\n",
       "      <td>New Zealand</td>\n",
       "      <td>2021</td>\n",
       "      <td>176th</td>\n",
       "      <td>18.4</td>\n",
       "      <td>1.4</td>\n",
       "      <td>1.4</td>\n",
       "      <td>2.6</td>\n",
       "      <td>3.4</td>\n",
       "      <td>2.1</td>\n",
       "      <td>1.6</td>\n",
       "      <td>0.5</td>\n",
       "      <td>1.4</td>\n",
       "      <td>0.5</td>\n",
       "      <td>1.4</td>\n",
       "      <td>1.6</td>\n",
       "      <td>0.5</td>\n",
       "    </tr>\n",
       "    <tr>\n",
       "      <th>176</th>\n",
       "      <td>Iceland</td>\n",
       "      <td>2021</td>\n",
       "      <td>177th</td>\n",
       "      <td>18.0</td>\n",
       "      <td>0.7</td>\n",
       "      <td>1.8</td>\n",
       "      <td>0.5</td>\n",
       "      <td>3.4</td>\n",
       "      <td>1.3</td>\n",
       "      <td>1.9</td>\n",
       "      <td>0.5</td>\n",
       "      <td>1.2</td>\n",
       "      <td>0.5</td>\n",
       "      <td>1.5</td>\n",
       "      <td>1.5</td>\n",
       "      <td>3.2</td>\n",
       "    </tr>\n",
       "    <tr>\n",
       "      <th>177</th>\n",
       "      <td>Norway</td>\n",
       "      <td>2021</td>\n",
       "      <td>178th</td>\n",
       "      <td>16.6</td>\n",
       "      <td>1.8</td>\n",
       "      <td>1.1</td>\n",
       "      <td>3.3</td>\n",
       "      <td>1.9</td>\n",
       "      <td>1.0</td>\n",
       "      <td>0.8</td>\n",
       "      <td>0.5</td>\n",
       "      <td>1.6</td>\n",
       "      <td>0.5</td>\n",
       "      <td>1.4</td>\n",
       "      <td>2.2</td>\n",
       "      <td>0.5</td>\n",
       "    </tr>\n",
       "    <tr>\n",
       "      <th>178</th>\n",
       "      <td>Finland</td>\n",
       "      <td>2021</td>\n",
       "      <td>179th</td>\n",
       "      <td>16.2</td>\n",
       "      <td>2.5</td>\n",
       "      <td>1.4</td>\n",
       "      <td>0.6</td>\n",
       "      <td>2.9</td>\n",
       "      <td>1.0</td>\n",
       "      <td>1.5</td>\n",
       "      <td>0.5</td>\n",
       "      <td>1.6</td>\n",
       "      <td>0.5</td>\n",
       "      <td>1.7</td>\n",
       "      <td>1.5</td>\n",
       "      <td>0.5</td>\n",
       "    </tr>\n",
       "  </tbody>\n",
       "</table>\n",
       "<p>179 rows × 16 columns</p>\n",
       "</div>"
      ],
      "text/plain": [
       "                       Country  Year   Rank  Total  C1: Security Apparatus  \\\n",
       "0                        Yemen  2021    1st  111.7                     9.4   \n",
       "1                      Somalia  2021    2nd  110.9                     9.3   \n",
       "2                        Syria  2021    3rd  110.7                     9.6   \n",
       "3                  South Sudan  2021    4th  109.4                     9.7   \n",
       "4    Congo Democratic Republic  2021    5th  108.4                     8.6   \n",
       "..                         ...   ...    ...    ...                     ...   \n",
       "174                    Denmark  2021  175th   18.8                     1.7   \n",
       "175                New Zealand  2021  176th   18.4                     1.4   \n",
       "176                    Iceland  2021  177th   18.0                     0.7   \n",
       "177                     Norway  2021  178th   16.6                     1.8   \n",
       "178                    Finland  2021  179th   16.2                     2.5   \n",
       "\n",
       "     C2: Factionalized Elites  C3: Group Grievance  E1: Economy  \\\n",
       "0                        10.0                  9.4          9.8   \n",
       "1                        10.0                  8.3          9.2   \n",
       "2                         9.9                  9.7          9.6   \n",
       "3                         9.2                  8.8          9.2   \n",
       "4                         9.5                  9.4          8.5   \n",
       "..                        ...                  ...          ...   \n",
       "174                       1.4                  3.7          1.7   \n",
       "175                       1.4                  2.6          3.4   \n",
       "176                       1.8                  0.5          3.4   \n",
       "177                       1.1                  3.3          1.9   \n",
       "178                       1.4                  0.6          2.9   \n",
       "\n",
       "     E2: Economic Inequality  E3: Human Flight and Brain Drain  \\\n",
       "0                        7.7                               6.7   \n",
       "1                        9.5                               8.8   \n",
       "2                        7.1                               8.2   \n",
       "3                        8.9                               6.7   \n",
       "4                        8.5                               6.8   \n",
       "..                       ...                               ...   \n",
       "174                      1.2                               1.3   \n",
       "175                      2.1                               1.6   \n",
       "176                      1.3                               1.9   \n",
       "177                      1.0                               0.8   \n",
       "178                      1.0                               1.5   \n",
       "\n",
       "     P1: State Legitimacy  P2: Public Services  P3: Human Rights  \\\n",
       "0                     9.9                  9.8               9.7   \n",
       "1                     9.2                  9.8               8.7   \n",
       "2                    10.0                  9.6               9.7   \n",
       "3                     9.5                 10.0               8.7   \n",
       "4                     9.2                  9.8               9.2   \n",
       "..                    ...                  ...               ...   \n",
       "174                   0.5                  1.4               0.9   \n",
       "175                   0.5                  1.4               0.5   \n",
       "176                   0.5                  1.2               0.5   \n",
       "177                   0.5                  1.6               0.5   \n",
       "178                   0.5                  1.6               0.5   \n",
       "\n",
       "     S1: Demographic Pressures  S2: Refugees and IDPs  \\\n",
       "0                          9.8                    9.8   \n",
       "1                         10.0                    9.2   \n",
       "2                          7.6                    9.7   \n",
       "3                          9.5                    9.9   \n",
       "4                          9.8                   10.0   \n",
       "..                         ...                    ...   \n",
       "174                        2.3                    2.2   \n",
       "175                        1.4                    1.6   \n",
       "176                        1.5                    1.5   \n",
       "177                        1.4                    2.2   \n",
       "178                        1.7                    1.5   \n",
       "\n",
       "     X1: External Intervention  \n",
       "0                          9.7  \n",
       "1                          8.9  \n",
       "2                         10.0  \n",
       "3                          9.3  \n",
       "4                          9.1  \n",
       "..                         ...  \n",
       "174                        0.5  \n",
       "175                        0.5  \n",
       "176                        3.2  \n",
       "177                        0.5  \n",
       "178                        0.5  \n",
       "\n",
       "[179 rows x 16 columns]"
      ]
     },
     "execution_count": 14,
     "metadata": {},
     "output_type": "execute_result"
    }
   ],
   "source": [
    "allDFs[8] #para observar cada data frame\n",
    "#recuerda que DFs se han almacenado en lista, entonces al colocar nro, invocas a esa DF de dicha posición"
   ]
  },
  {
   "cell_type": "code",
   "execution_count": 16,
   "metadata": {},
   "outputs": [],
   "source": [
    "# saving column names\n",
    "allColumnNames=[]\n",
    "for df in allDFs:\n",
    "    allColumnNames.append(set(df.columns))# list of sets!\n",
    "    #un set es un conjunto"
   ]
  },
  {
   "cell_type": "code",
   "execution_count": 18,
   "metadata": {},
   "outputs": [
    {
     "data": {
      "text/plain": [
       "{'C1: Security Apparatus',\n",
       " 'C2: Factionalized Elites',\n",
       " 'C3: Group Grievance',\n",
       " 'Country',\n",
       " 'E1: Economy',\n",
       " 'E2: Economic Inequality',\n",
       " 'E3: Human Flight and Brain Drain',\n",
       " 'P1: State Legitimacy',\n",
       " 'P2: Public Services',\n",
       " 'P3: Human Rights',\n",
       " 'Rank',\n",
       " 'S1: Demographic Pressures',\n",
       " 'S2: Refugees and IDPs',\n",
       " 'Total',\n",
       " 'X1: External Intervention',\n",
       " 'Year'}"
      ]
     },
     "execution_count": 18,
     "metadata": {},
     "output_type": "execute_result"
    }
   ],
   "source": [
    "allColumnNames[0]\n",
    "#te permite ver nombre de columnas\n",
    "#colocas posicion de DF específico"
   ]
  },
  {
   "cell_type": "code",
   "execution_count": 19,
   "metadata": {},
   "outputs": [
    {
     "data": {
      "text/plain": [
       "[16, 16, 16, 16, 16, 16, 17, 17, 16]"
      ]
     },
     "execution_count": 19,
     "metadata": {},
     "output_type": "execute_result"
    }
   ],
   "source": [
    "# checking how many columns per df\n",
    "\n",
    "[len(cols) for cols in allColumnNames]\n",
    "#note: Df de 2019 y 2020 tienen una columnas más"
   ]
  },
  {
   "cell_type": "markdown",
   "metadata": {},
   "source": [
    "We have an extra column in a couple of years. \n",
    "Let's find the common columns:"
   ]
  },
  {
   "cell_type": "code",
   "execution_count": 22,
   "metadata": {},
   "outputs": [
    {
     "data": {
      "text/plain": [
       "(16,\n",
       " {'C1: Security Apparatus',\n",
       "  'C2: Factionalized Elites',\n",
       "  'C3: Group Grievance',\n",
       "  'Country',\n",
       "  'E1: Economy',\n",
       "  'E2: Economic Inequality',\n",
       "  'E3: Human Flight and Brain Drain',\n",
       "  'P1: State Legitimacy',\n",
       "  'P2: Public Services',\n",
       "  'P3: Human Rights',\n",
       "  'Rank',\n",
       "  'S1: Demographic Pressures',\n",
       "  'S2: Refugees and IDPs',\n",
       "  'Total',\n",
       "  'X1: External Intervention',\n",
       "  'Year'})"
      ]
     },
     "execution_count": 22,
     "metadata": {},
     "output_type": "execute_result"
    }
   ],
   "source": [
    "# details of common columns\n",
    "commonColumns=set.intersection(*allColumnNames) # expanding list of sets (*)\n",
    "len(commonColumns),commonColumns\n",
    "\n",
    "#esto nos ayuda a identificar tmb si es que todas esas 16 columnas son las mismas\n",
    "#podrían tener nombres diferentes"
   ]
  },
  {
   "cell_type": "markdown",
   "metadata": {},
   "source": [
    "These are the columns not in the common names:"
   ]
  },
  {
   "cell_type": "code",
   "execution_count": 21,
   "metadata": {},
   "outputs": [
    {
     "data": {
      "text/plain": [
       "{'Change from Previous Year'}"
      ]
     },
     "execution_count": 21,
     "metadata": {},
     "output_type": "execute_result"
    }
   ],
   "source": [
    "# all minus the common\n",
    "set.union(*allColumnNames)-commonColumns\n",
    "\n",
    "#This code calculates the columns that are not common among the sets\n",
    "#of column names in `allColumnNames`. It does this by finding the union of all\n",
    "#sets in `allColumnNames` using `set.union` and then subtracting the `commonColumns` set.\n",
    "\n",
    "#Here's what the code does step by step:\n",
    "\n",
    "#1. `set.union(*allColumnNames)`: This line uses the `set.union` method to find\n",
    "#the union of all sets in the `allColumnNames` list. The `*` operator is used to\n",
    "#unpack the list and pass its elements as separate arguments to the `set.union` method.\n",
    "\n",
    "#2. `commonColumns`: This is the set of common columns that you calculated previously.\n",
    "\n",
    "#3. `set.union(*allColumnNames) - commonColumns`: This line subtracts the `commonColumns`\n",
    "#set from the union of all column sets. This will give you the columns that are not common among the sets.\n",
    "\n",
    "#The result will be a set containing the columns that are not common among the sets."
   ]
  },
  {
   "cell_type": "markdown",
   "metadata": {},
   "source": [
    "We could make a list of data frames with only the common columns:"
   ]
  },
  {
   "cell_type": "code",
   "execution_count": 27,
   "metadata": {},
   "outputs": [],
   "source": [
    "# DFs with the common columns\n",
    "allDFs_sameNames=[df.loc[:,list(commonColumns)] for df in allDFs]\n",
    "\n",
    "#objetivo: para que todos los DF tengan 16 columns y tengan los = nombres\n",
    "\n",
    "#This code creates a list of new dataframes, where each dataframe contains\n",
    "#only the columns that are common among all the dataframes in the `allDFs` list.\n",
    "#It does this by using a list comprehension and the `commonColumns` set to select\n",
    "#the desired columns from each dataframe.\n",
    "\n",
    "#Here's what the code does step by step:\n",
    "\n",
    "#1. `[df.loc[:, list(commonColumns)] for df in allDFs]`: This is a list comprehension that\n",
    "#iterates over each dataframe `df` in the `allDFs` list.\n",
    "\n",
    "#2. `df.loc[:, list(commonColumns)]`: For each dataframe `df`, this line uses the `loc`\n",
    "#method to select all rows (`:`) and only the columns that are present in the `commonColumns` set.\n",
    "#It converts `commonColumns` to a list (`list(commonColumns)`) to ensure compatibility with the column selection.\n",
    "\n",
    "#The result will be a list of new dataframes, where each dataframe contains only\n",
    "#the columns that are common among all the dataframes in `allDFs`.\n",
    "\n",
    "#Here's an example of what the resulting list might look like:\n",
    "\n",
    "#```python\n",
    "#[DataFrame1 with common columns,\n",
    " #DataFrame2 with common columns,\n",
    " #DataFrame3 with common columns,\n",
    " #...]\n",
    "#```\n",
    "\n",
    "#Each `DataFrameX` in the list will have the same set of common columns\n",
    "#extracted from the corresponding dataframe in `allDFs`."
   ]
  },
  {
   "cell_type": "markdown",
   "metadata": {},
   "source": [
    "Appending in pandas requires a list of data frames, in these case that is **allDFs_sameNames**. Then we proceed:"
   ]
  },
  {
   "cell_type": "code",
   "execution_count": 28,
   "metadata": {},
   "outputs": [
    {
     "data": {
      "text/html": [
       "<div>\n",
       "<style scoped>\n",
       "    .dataframe tbody tr th:only-of-type {\n",
       "        vertical-align: middle;\n",
       "    }\n",
       "\n",
       "    .dataframe tbody tr th {\n",
       "        vertical-align: top;\n",
       "    }\n",
       "\n",
       "    .dataframe thead th {\n",
       "        text-align: right;\n",
       "    }\n",
       "</style>\n",
       "<table border=\"1\" class=\"dataframe\">\n",
       "  <thead>\n",
       "    <tr style=\"text-align: right;\">\n",
       "      <th></th>\n",
       "      <th>P2: Public Services</th>\n",
       "      <th>C1: Security Apparatus</th>\n",
       "      <th>C2: Factionalized Elites</th>\n",
       "      <th>S1: Demographic Pressures</th>\n",
       "      <th>P3: Human Rights</th>\n",
       "      <th>E2: Economic Inequality</th>\n",
       "      <th>Country</th>\n",
       "      <th>Rank</th>\n",
       "      <th>C3: Group Grievance</th>\n",
       "      <th>X1: External Intervention</th>\n",
       "      <th>E1: Economy</th>\n",
       "      <th>P1: State Legitimacy</th>\n",
       "      <th>E3: Human Flight and Brain Drain</th>\n",
       "      <th>Total</th>\n",
       "      <th>S2: Refugees and IDPs</th>\n",
       "      <th>Year</th>\n",
       "    </tr>\n",
       "  </thead>\n",
       "  <tbody>\n",
       "    <tr>\n",
       "      <th>0</th>\n",
       "      <td>9.8</td>\n",
       "      <td>9.7</td>\n",
       "      <td>10.0</td>\n",
       "      <td>9.5</td>\n",
       "      <td>10.0</td>\n",
       "      <td>8.4</td>\n",
       "      <td>Somalia</td>\n",
       "      <td>1st</td>\n",
       "      <td>9.3</td>\n",
       "      <td>9.4</td>\n",
       "      <td>9.4</td>\n",
       "      <td>9.5</td>\n",
       "      <td>8.9</td>\n",
       "      <td>113.9</td>\n",
       "      <td>10.0</td>\n",
       "      <td>2013-01-01 00:00:00</td>\n",
       "    </tr>\n",
       "    <tr>\n",
       "      <th>1</th>\n",
       "      <td>9.5</td>\n",
       "      <td>10.0</td>\n",
       "      <td>9.5</td>\n",
       "      <td>10.0</td>\n",
       "      <td>9.8</td>\n",
       "      <td>8.8</td>\n",
       "      <td>Congo Democratic Republic</td>\n",
       "      <td>2nd</td>\n",
       "      <td>9.4</td>\n",
       "      <td>9.7</td>\n",
       "      <td>8.5</td>\n",
       "      <td>9.6</td>\n",
       "      <td>7.1</td>\n",
       "      <td>111.9</td>\n",
       "      <td>10.0</td>\n",
       "      <td>2013-01-01 00:00:00</td>\n",
       "    </tr>\n",
       "    <tr>\n",
       "      <th>2</th>\n",
       "      <td>8.8</td>\n",
       "      <td>9.8</td>\n",
       "      <td>10.0</td>\n",
       "      <td>8.8</td>\n",
       "      <td>9.3</td>\n",
       "      <td>8.5</td>\n",
       "      <td>Sudan</td>\n",
       "      <td>3rd</td>\n",
       "      <td>10.0</td>\n",
       "      <td>10.0</td>\n",
       "      <td>7.8</td>\n",
       "      <td>9.6</td>\n",
       "      <td>8.4</td>\n",
       "      <td>111.0</td>\n",
       "      <td>10.0</td>\n",
       "      <td>2013-01-01 00:00:00</td>\n",
       "    </tr>\n",
       "    <tr>\n",
       "      <th>3</th>\n",
       "      <td>9.8</td>\n",
       "      <td>9.6</td>\n",
       "      <td>9.8</td>\n",
       "      <td>8.9</td>\n",
       "      <td>9.3</td>\n",
       "      <td>8.9</td>\n",
       "      <td>South Sudan</td>\n",
       "      <td>4th</td>\n",
       "      <td>10.0</td>\n",
       "      <td>10.0</td>\n",
       "      <td>8.6</td>\n",
       "      <td>9.1</td>\n",
       "      <td>6.5</td>\n",
       "      <td>110.6</td>\n",
       "      <td>10.0</td>\n",
       "      <td>2013-01-01 00:00:00</td>\n",
       "    </tr>\n",
       "    <tr>\n",
       "      <th>4</th>\n",
       "      <td>9.9</td>\n",
       "      <td>9.4</td>\n",
       "      <td>9.5</td>\n",
       "      <td>9.5</td>\n",
       "      <td>9.8</td>\n",
       "      <td>8.9</td>\n",
       "      <td>Chad</td>\n",
       "      <td>5th</td>\n",
       "      <td>8.8</td>\n",
       "      <td>7.9</td>\n",
       "      <td>8.0</td>\n",
       "      <td>9.7</td>\n",
       "      <td>8.0</td>\n",
       "      <td>109.0</td>\n",
       "      <td>9.7</td>\n",
       "      <td>2013-01-01 00:00:00</td>\n",
       "    </tr>\n",
       "  </tbody>\n",
       "</table>\n",
       "</div>"
      ],
      "text/plain": [
       "   P2: Public Services  C1: Security Apparatus  C2: Factionalized Elites  \\\n",
       "0                  9.8                     9.7                      10.0   \n",
       "1                  9.5                    10.0                       9.5   \n",
       "2                  8.8                     9.8                      10.0   \n",
       "3                  9.8                     9.6                       9.8   \n",
       "4                  9.9                     9.4                       9.5   \n",
       "\n",
       "   S1: Demographic Pressures  P3: Human Rights  E2: Economic Inequality  \\\n",
       "0                        9.5              10.0                      8.4   \n",
       "1                       10.0               9.8                      8.8   \n",
       "2                        8.8               9.3                      8.5   \n",
       "3                        8.9               9.3                      8.9   \n",
       "4                        9.5               9.8                      8.9   \n",
       "\n",
       "                     Country Rank  C3: Group Grievance  \\\n",
       "0                    Somalia  1st                  9.3   \n",
       "1  Congo Democratic Republic  2nd                  9.4   \n",
       "2                      Sudan  3rd                 10.0   \n",
       "3                South Sudan  4th                 10.0   \n",
       "4                       Chad  5th                  8.8   \n",
       "\n",
       "   X1: External Intervention  E1: Economy  P1: State Legitimacy  \\\n",
       "0                        9.4          9.4                   9.5   \n",
       "1                        9.7          8.5                   9.6   \n",
       "2                       10.0          7.8                   9.6   \n",
       "3                       10.0          8.6                   9.1   \n",
       "4                        7.9          8.0                   9.7   \n",
       "\n",
       "   E3: Human Flight and Brain Drain  Total  S2: Refugees and IDPs  \\\n",
       "0                               8.9  113.9                   10.0   \n",
       "1                               7.1  111.9                   10.0   \n",
       "2                               8.4  111.0                   10.0   \n",
       "3                               6.5  110.6                   10.0   \n",
       "4                               8.0  109.0                    9.7   \n",
       "\n",
       "                  Year  \n",
       "0  2013-01-01 00:00:00  \n",
       "1  2013-01-01 00:00:00  \n",
       "2  2013-01-01 00:00:00  \n",
       "3  2013-01-01 00:00:00  \n",
       "4  2013-01-01 00:00:00  "
      ]
     },
     "execution_count": 28,
     "metadata": {},
     "output_type": "execute_result"
    }
   ],
   "source": [
    "# appending\n",
    "allDFsConcat=pd.concat(allDFs_sameNames)\n",
    "allDFsConcat.head()\n",
    "\n",
    "#This code is using the pd.concat function from the Pandas library to concatenate\n",
    "#DataFrames from the allDFs_sameNames list into a single DataFrame and then\n",
    "#displaying the first few rows of this concatenated DataFrame.\n",
    "\n",
    "#Here's what this code does:\n",
    "\n",
    "#pd.concat(allDFs_sameNames): This line uses the pd.concat function\n",
    "#to concatenate the DataFrames from the allDFs_sameNames list into one single DataFrame.\n",
    "#This function combines the DataFrames along the rows (i.e., it appends the rows of the DataFrames one after another).\n",
    "\n",
    "#allDFsConcat.head(): After merging the DataFrames, the head() method\n",
    "#is applied to the concatenated DataFrame allDFsConcat to display the first few rows of this DataFrame.\n",
    "#This is a common operation to inspect the data in the DataFrame."
   ]
  },
  {
   "cell_type": "markdown",
   "metadata": {},
   "source": [
    "We could pay attention to the current data types:"
   ]
  },
  {
   "cell_type": "code",
   "execution_count": null,
   "metadata": {},
   "outputs": [],
   "source": [
    "allDFsConcat.info()"
   ]
  },
  {
   "cell_type": "markdown",
   "metadata": {},
   "source": [
    "The columns] **Year** was expected to be a numeric type, but we got an _object_ instead. Let's explore that column:"
   ]
  },
  {
   "cell_type": "code",
   "execution_count": null,
   "metadata": {},
   "outputs": [],
   "source": [
    "# exploring year column as frequency table\n",
    "allDFsConcat.Year.value_counts()"
   ]
  },
  {
   "cell_type": "markdown",
   "metadata": {},
   "source": [
    "Except for the year 2021, the other values are in date-time format. We just need an integer number, then:"
   ]
  },
  {
   "cell_type": "code",
   "execution_count": null,
   "metadata": {},
   "outputs": [],
   "source": [
    "# keeping just the year value\n",
    "yearAsNumber=[]\n",
    "for y in allDFsConcat.Year:\n",
    "    try:\n",
    "        yearAsNumber.append(y.year)# the value from a date-time format\n",
    "    except:\n",
    "        yearAsNumber.append(y) # if not a datetime\n",
    "\n",
    "#verifying\n",
    "pd.Series(yearAsNumber).value_counts()"
   ]
  },
  {
   "cell_type": "code",
   "execution_count": null,
   "metadata": {},
   "outputs": [],
   "source": [
    "# overwriting the year column\n",
    "allDFsConcat.Year=yearAsNumber"
   ]
  },
  {
   "cell_type": "markdown",
   "metadata": {},
   "source": [
    "You may have notice that the column ordering does not look appropriate. In general you expect that the columns to the left start with identification of the rows rather than some measurements. Let's move 'Country','Year','Total' to the left:"
   ]
  },
  {
   "cell_type": "code",
   "execution_count": null,
   "metadata": {},
   "outputs": [],
   "source": [
    "# this is a trick: setting columns as index\n",
    "allDFsConcat.set_index(['Country','Year','Total'],inplace=True)\n",
    "allDFsConcat.head()"
   ]
  },
  {
   "cell_type": "markdown",
   "metadata": {},
   "source": [
    "Since I will not use _Rank_, I will get rid of it:"
   ]
  },
  {
   "cell_type": "code",
   "execution_count": null,
   "metadata": {},
   "outputs": [],
   "source": [
    "# dropping unneeded column\n",
    "allDFsConcat.drop(columns='Rank',inplace=True)"
   ]
  },
  {
   "cell_type": "markdown",
   "metadata": {},
   "source": [
    "Let's order the current column names:"
   ]
  },
  {
   "cell_type": "code",
   "execution_count": null,
   "metadata": {},
   "outputs": [],
   "source": [
    "# ordering column names alphabetically\n",
    "allDFsConcat.sort_index(axis=1,inplace=True) # by row index will be axis=0"
   ]
  },
  {
   "cell_type": "markdown",
   "metadata": {},
   "source": [
    "Now put the row indexes back:"
   ]
  },
  {
   "cell_type": "code",
   "execution_count": null,
   "metadata": {},
   "outputs": [],
   "source": [
    "# indexes will be columns\n",
    "allDFsConcat.reset_index(inplace=True)"
   ]
  },
  {
   "cell_type": "markdown",
   "metadata": {},
   "source": [
    "Let's do some cleaning on the column names:"
   ]
  },
  {
   "cell_type": "code",
   "execution_count": null,
   "metadata": {},
   "outputs": [],
   "source": [
    "# see column names\n",
    "allDFsConcat.columns.to_list()"
   ]
  },
  {
   "cell_type": "code",
   "execution_count": null,
   "metadata": {},
   "outputs": [],
   "source": [
    "# clean column names\n",
    "allDFsConcat.columns=allDFsConcat.columns.str.replace(':\\s',\"_\",regex=True)\n",
    "allDFsConcat.columns=allDFsConcat.columns.str.replace('\\s',\"\",regex=True)\n",
    "#see\n",
    "allDFsConcat.columns.to_list()"
   ]
  },
  {
   "cell_type": "markdown",
   "metadata": {},
   "source": [
    "Let's set the country names into upper case:"
   ]
  },
  {
   "cell_type": "code",
   "execution_count": null,
   "metadata": {},
   "outputs": [],
   "source": [
    "# overwriting country\n",
    "allDFsConcat.Country=allDFsConcat.Country.str.upper()"
   ]
  },
  {
   "cell_type": "markdown",
   "metadata": {},
   "source": [
    "Finally, let's check the format:"
   ]
  },
  {
   "cell_type": "code",
   "execution_count": null,
   "metadata": {},
   "outputs": [],
   "source": [
    "allDFsConcat.info()"
   ]
  },
  {
   "cell_type": "markdown",
   "metadata": {},
   "source": [
    "We should save this result:"
   ]
  },
  {
   "cell_type": "code",
   "execution_count": null,
   "metadata": {},
   "outputs": [],
   "source": [
    "import os\n",
    "\n",
    "allDFsConcat.to_csv(os.path.join(\"data\",\"Fragility.csv\"),index=False)"
   ]
  },
  {
   "cell_type": "code",
   "execution_count": null,
   "metadata": {},
   "outputs": [],
   "source": []
  }
 ],
 "metadata": {
  "hide_input": false,
  "kernelspec": {
   "display_name": "Python 3 (ipykernel)",
   "language": "python",
   "name": "python3"
  },
  "language_info": {
   "codemirror_mode": {
    "name": "ipython",
    "version": 3
   },
   "file_extension": ".py",
   "mimetype": "text/x-python",
   "name": "python",
   "nbconvert_exporter": "python",
   "pygments_lexer": "ipython3",
   "version": "3.11.4"
  }
 },
 "nbformat": 4,
 "nbformat_minor": 4
}
